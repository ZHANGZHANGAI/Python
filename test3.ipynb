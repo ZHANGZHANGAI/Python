{
 "cells": [
  {
   "cell_type": "code",
   "execution_count": 42,
   "metadata": {},
   "outputs": [
    {
     "name": "stdout",
     "output_type": "stream",
     "text": [
      "['When I wrote the following pages,\\n', 'or rather the bulk of them, I lived alone, in the woods,\\n', 'a mile from any neighbor, in a house which\\n', 'I had built myself,\\n', 'on the shore of Walden Pond, in Concord,Massachusetts,\\n', 'and earned my living by the labor of my hands only.\\n', 'I lived there two years and two months. At present I am a\\n', 'sojourner in civilized life again.\\n', 'I should not obtrude my affairs so much on the\\n', 'notice of my readers\\n', '\\n']\n"
     ]
    }
   ],
   "source": [
    "#读取txt文本文件（方法一）\n",
    "#with open ('work.txt','r') as fp:\n",
    "\n",
    "#读取txt文本文件（方法二）\n",
    "#filename = 'work.txt'\n",
    "#with open(filename, 'r') as fp:\n",
    "#    lines = fp.readlines()\n",
    "\n",
    "filename = 'demo.py'\n",
    "with open(filename, 'r',encoding= 'utf-8') as fp:\n",
    "    lines = fp.readlines()\n",
    "#print(lines)\n",
    "\n",
    "#获取最长的行的长度\n",
    "maxLength = len(max(lines,key=len))\n",
    "#print(maxLength)\n",
    "\n",
    "for index,line in enumerate(lines): #遍历所有行\n",
    "    newLine=line.rstrip()   #删除每行右侧的空白字符\n",
    "    newLine=newLine+' '*(maxLength+5-len(newLine))  #在每行固定位置添加行号\n",
    "    newLine=newLine+'#'+str(index+1)+'\\n'   #添加行号 #index从0开始\n",
    "    lines[index]=newLine #将添加过行号的行添加到lines中\n",
    "with open(filename[:-3]+'_new.py','w')as fp:    #将结果写入文件\n",
    "     fp.writelines(lines)"
   ]
  },
  {
   "cell_type": "code",
   "execution_count": 8,
   "metadata": {},
   "outputs": [],
   "source": [
    "filename = 'C:/Users/lenovo/Desktop/数据分析/demo.py'\n",
    "with open(filename, 'r',encoding= 'utf-8') as fp:\n",
    "    lines = fp.readlines()\n",
    "maxLength = len(max(lines, key=len))\n",
    "\n",
    "lines = [line.rstrip().ljust(maxLength)+'#'+str(index)+'\\n'\n",
    "         for index, line in enumerate(lines)]\n",
    "with open(filename[:-3]+'_new.py', 'w') as fp:\n",
    "    fp.writelines(lines)"
   ]
  },
  {
   "cell_type": "code",
   "execution_count": 22,
   "metadata": {},
   "outputs": [],
   "source": [
    "filename = 'C:/Users/lenovo/Desktop/数据分析/demo.py'\n",
    "with open(filename,'r',encoding= 'utf-8')as fp:\n",
    "    lines=fp.readlines() #读取所有行\n",
    "maxLength=max(map(len,lines))   #最长行的长度\n",
    "\n",
    "for index,line in enumerate(lines): #遍历所有行\n",
    "    newLine=line.rstrip()   #删除每行右侧的空白字符\n",
    "    newLine=newLine+' '*(maxLength+5-len(newLine))  #在每行固定位置添加行号\n",
    "    newLine=newLine+'#'+str(index+1)+'\\n'   #添加行号\n",
    "    lines[index]=newLine\n",
    "with open(filename[:-3]+'_new.py','w')as fp:    #将结果写入文件\n",
    "     fp.writelines(lines)"
   ]
  },
  {
   "cell_type": "code",
   "execution_count": null,
   "metadata": {},
   "outputs": [],
   "source": []
  }
 ],
 "metadata": {
  "kernelspec": {
   "display_name": "Python 3",
   "language": "python",
   "name": "python3"
  },
  "language_info": {
   "codemirror_mode": {
    "name": "ipython",
    "version": 3
   },
   "file_extension": ".py",
   "mimetype": "text/x-python",
   "name": "python",
   "nbconvert_exporter": "python",
   "pygments_lexer": "ipython3",
   "version": "3.7.0"
  }
 },
 "nbformat": 4,
 "nbformat_minor": 2
}
