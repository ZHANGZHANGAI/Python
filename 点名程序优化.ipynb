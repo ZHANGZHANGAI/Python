{
 "cells": [
  {
   "cell_type": "code",
   "execution_count": 1,
   "metadata": {},
   "outputs": [
    {
     "name": "stdout",
     "output_type": "stream",
     "text": [
      "pygame 1.9.6\n",
      "Hello from the pygame community. https://www.pygame.org/contribute.html\n"
     ]
    }
   ],
   "source": [
    "import tkinter as tk\n",
    "import tkinter as Tkinter\n",
    "from tkinter import *\n",
    "import tkinter.messagebox\n",
    "import random\n",
    "import pandas as pd\n",
    "import pygame\n",
    "\n",
    "test1 = pd.read_excel('C:\\\\Users\\\\lenovo\\\\Desktop\\\\数应191名单.xlsx')\n",
    "data = test1.iloc[:, 2]\n",
    "going = True  # 表示是否可以继续滚动(递归)显示下一个名额\n",
    "is_run = False  # 表示当前抽奖器是否在运行\n",
    "\n",
    "\n",
    "def lottery_roll(var1):\n",
    "    global going\n",
    "    show_member = random.choice(data)  # 随机选取姓名\n",
    "    var1.set(show_member)  # var1 显示抽取出来的姓名\n",
    "    if going:  # going=True\n",
    "        window.after(40, lottery_roll, var1)  # 每40毫秒循环一次\n",
    "    else:  # going=False\n",
    "        result = tkinter.messagebox.showinfo(title='信息提示！', message='恭喜 {} ！！！'.format(show_member))  # 弹窗显示恭喜+抽取出来的姓名\n",
    "        going = True\n",
    "        return  # 跳出def\n",
    "\n",
    "\n",
    "def lottery_start(var1):\n",
    "    global is_run\n",
    "    if is_run:  # is_run = True\n",
    "        return  # 跳出def\n",
    "    is_run = True\n",
    "    # 音乐的路径\n",
    "    file=r'C:\\\\Users\\\\lenovo\\\\Desktop\\\\抽奖音乐.mp3'\n",
    "    # 初始化\n",
    "    pygame.mixer.init()\n",
    "    # 加载音乐文件\n",
    "    track = pygame.mixer.music.load(file)\n",
    "    # 开始播放音乐流\n",
    "    #pygame.mixer.music.play()\n",
    "    pygame.mixer.music.play(-1)\n",
    "    pygame.mixer.music.set_volume(0.4)    #控制音乐声音的大小\n",
    "    lottery_roll(var1)  # 执行循环抽取姓名的执行语句\n",
    "\n",
    "\n",
    "def lottery_end():\n",
    "    global going, is_run\n",
    "    if is_run:\n",
    "        pygame.mixer.music.stop()\n",
    "        going = False\n",
    "        is_run = False\n",
    "\n",
    "\n",
    "if __name__ == '__main__':  # 如果模块是被直接运行的，则代码块被运行，如果模块是被导入的，则代码块不被运行。\n",
    "    window = Tkinter.Tk()\n",
    "    window.title('点名程序：')\n",
    "    window.geometry('405x320+250+15')\n",
    "    bg_label = Label(window, width=70, height=24)\n",
    "    bg_label.place(anchor=NW, x=0, y=0)\n",
    "\n",
    "    var1 = StringVar(value='即 将 开 始')\n",
    "    show_label1 = Label(window, textvariable=var1, justify='left', anchor=CENTER, width=17, height=3,\n",
    "                       font='楷体 -40 bold', foreground='black')\n",
    "    show_label1.place(anchor=NW, x=21, y=20)\n",
    "\n",
    "    button1 = Button(window, text='开始', command=lambda: lottery_start(var1), width=14, height=2, bg='#A8A8A8',\n",
    "                     font='宋体 -18 bold')\n",
    "    button1.place(anchor=NW, x=20, y=175)\n",
    "\n",
    "    button2 = Button(window, text='结束', command=lambda: lottery_end(), width=14, height=2, bg='#A8A8A8',\n",
    "                     font='宋体 -18 bold')\n",
    "    button2.place(anchor=NW, x=232, y=175)\n",
    "\n",
    "    window.mainloop()"
   ]
  },
  {
   "cell_type": "code",
   "execution_count": null,
   "metadata": {},
   "outputs": [],
   "source": []
  }
 ],
 "metadata": {
  "kernelspec": {
   "display_name": "Python 3",
   "language": "python",
   "name": "python3"
  },
  "language_info": {
   "codemirror_mode": {
    "name": "ipython",
    "version": 3
   },
   "file_extension": ".py",
   "mimetype": "text/x-python",
   "name": "python",
   "nbconvert_exporter": "python",
   "pygments_lexer": "ipython3",
   "version": "3.7.0"
  }
 },
 "nbformat": 4,
 "nbformat_minor": 2
}
