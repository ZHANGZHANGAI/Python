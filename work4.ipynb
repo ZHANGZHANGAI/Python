{
 "cells": [
  {
   "cell_type": "code",
   "execution_count": 4,
   "metadata": {},
   "outputs": [
    {
     "name": "stdout",
     "output_type": "stream",
     "text": [
      "请输入列表list：1,2,3,4,5,6,7,8,9,10\n",
      "该序列偶数的个数是 5 个\n"
     ]
    }
   ],
   "source": [
    "def even_number(x):\n",
    "    list = []\n",
    "    for i in x:\n",
    "        if i%2 == 0:\n",
    "            list.append(i)\n",
    "    print('该序列偶数的个数是',len(list),'个')\n",
    "lst = eval(input('请输入列表list：'))\n",
    "result = even_number(lst)"
   ]
  },
  {
   "cell_type": "code",
   "execution_count": null,
   "metadata": {},
   "outputs": [],
   "source": []
  }
 ],
 "metadata": {
  "kernelspec": {
   "display_name": "Python 3",
   "language": "python",
   "name": "python3"
  },
  "language_info": {
   "codemirror_mode": {
    "name": "ipython",
    "version": 3
   },
   "file_extension": ".py",
   "mimetype": "text/x-python",
   "name": "python",
   "nbconvert_exporter": "python",
   "pygments_lexer": "ipython3",
   "version": "3.7.0"
  }
 },
 "nbformat": 4,
 "nbformat_minor": 2
}
