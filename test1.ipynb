{
 "cells": [
  {
   "cell_type": "code",
   "execution_count": 1,
   "metadata": {},
   "outputs": [
    {
     "name": "stdout",
     "output_type": "stream",
     "text": [
      "{'2019660101': '周嘉铖', '2019660103': '钱珑超', '2019660104': '徐展', '2019660105': '尤桉哲', '2019660106': '钱涛', '2019660107': '黄舒怡', '2019660108': '胡志辉', '2019660109': '吴昭耀', '2019660110': '陈萌萌', '2019660111': '郑巧悦', '2019660112': '陈艳', '2019660113': '梁明皓', '2019660114': '蒋俊超', '2019660115': '徐颖', '2019660116': '倪宏涛', '2019660117': '潘梦倩', '2019660118': '俞靖庐', '2019660119': '王中阳', '2019660120': '毛贞强', '2019660121': '张嫒', '2019660123': '朱速航', '2019660124': '陈涛', '2019660125': '陆元超', '2019660126': '叶振雄', '2019660127': '奚申杰', '2019660128': '叶梦婷', '2019660129': '徐丽丽', '2019660130': '潘艳'}\n"
     ]
    }
   ],
   "source": [
    "'''字典创立方法一：自己输入\n",
    "'''\n",
    "key_list = ['2019660101','2019660103','2019660104','2019660105','2019660106','2019660107','2019660108','2019660109','2019660110','2019660111','2019660112','2019660113','2019660114','2019660115','2019660116','2019660117','2019660118','2019660119','2019660120','2019660121','2019660123','2019660124','2019660125','2019660126','2019660127','2019660128','2019660129','2019660130']\n",
    "value_list = ['周嘉铖','钱珑超','徐展','尤桉哲','钱涛','黄舒怡','胡志辉','吴昭耀','陈萌萌','郑巧悦','陈艳','梁明皓','蒋俊超','徐颖','倪宏涛','潘梦倩','俞靖庐','王中阳','毛贞强','张嫒','朱速航','陈涛','陆元超','叶振雄','奚申杰','叶梦婷', '徐丽丽','潘艳']\n",
    "dict_listname = {}\n",
    "for key,value in zip(key_list,value_list):\n",
    "    dict_listname[key]=value\n",
    "print(dict_listname)"
   ]
  },
  {
   "cell_type": "code",
   "execution_count": 2,
   "metadata": {},
   "outputs": [
    {
     "name": "stdout",
     "output_type": "stream",
     "text": [
      "请输入抽取人数:3\n",
      "{'2019660124': '陈涛', '2019660101': '周嘉铖', '2019660127': '奚申杰'}\n"
     ]
    }
   ],
   "source": [
    "import random\n",
    "n = int(input('请输入抽取人数:'))\n",
    "chouqu = random.sample(list(dict_listname), n)\n",
    "name = []\n",
    "result = {}\n",
    "#利用for循环将抽取出来的keys分别寻找相对应的value值存放在name中\n",
    "for n in chouqu:\n",
    "    name.append(dict_listname[n])\n",
    "#将抽取出来的学号和姓名放在同一个字典里\n",
    "for key,value in zip(chouqu,name):\n",
    "    result[key]=value\n",
    "print(result)"
   ]
  },
  {
   "cell_type": "code",
   "execution_count": 4,
   "metadata": {},
   "outputs": [
    {
     "data": {
      "text/plain": [
       "{2019660101: '周嘉铖',\n",
       " 2019660103: '钱珑超',\n",
       " 2019660104: '徐展',\n",
       " 2019660105: '尤桉哲',\n",
       " 2019660106: '钱涛',\n",
       " 2019660107: '黄舒怡',\n",
       " 2019660108: '胡志辉',\n",
       " 2019660109: '吴昭耀',\n",
       " 2019660110: '陈萌萌',\n",
       " 2019660111: '郑巧悦',\n",
       " 2019660112: '陈艳',\n",
       " 2019660113: '梁明皓',\n",
       " 2019660114: '蒋俊超',\n",
       " 2019660115: '徐颖',\n",
       " 2019660116: '倪宏涛',\n",
       " 2019660117: '潘梦倩',\n",
       " 2019660118: '俞靖庐',\n",
       " 2019660119: '王中阳',\n",
       " 2019660120: '毛贞强',\n",
       " 2019660121: '张嫒',\n",
       " 2019660123: '朱速航',\n",
       " 2019660124: '陈涛',\n",
       " 2019660125: '陆元超',\n",
       " 2019660126: '叶振雄',\n",
       " 2019660127: '奚申杰',\n",
       " 2019660128: '叶梦婷',\n",
       " 2019660129: '徐丽丽',\n",
       " 2019660130: '潘艳'}"
      ]
     },
     "execution_count": 4,
     "metadata": {},
     "output_type": "execute_result"
    }
   ],
   "source": [
    "'''字典创立方法二：读取excel表格\n",
    "'''\n",
    "import pandas as pd\n",
    "test1 = pd.read_excel('C:\\\\Users\\\\lenovo\\\\Desktop\\\\数应191名单.xlsx')\n",
    "list1 = test1.set_index('学号').to_dict()['姓名']\n",
    "list1"
   ]
  },
  {
   "cell_type": "code",
   "execution_count": 5,
   "metadata": {},
   "outputs": [
    {
     "name": "stdout",
     "output_type": "stream",
     "text": [
      "请输入抽取人数:3\n",
      "{2019660115: '徐颖', 2019660127: '奚申杰', 2019660116: '倪宏涛'}\n"
     ]
    }
   ],
   "source": [
    "import random\n",
    "n = int(input('请输入抽取人数:'))\n",
    "chouqu = random.sample(list(list1), n)\n",
    "name = []\n",
    "result = {}\n",
    "for n in chouqu:\n",
    "    name.append(list1[n])\n",
    "for key,value in zip(chouqu,name):\n",
    "    result[key]=value\n",
    "print(result)"
   ]
  }
 ],
 "metadata": {
  "kernelspec": {
   "display_name": "Python 3",
   "language": "python",
   "name": "python3"
  },
  "language_info": {
   "codemirror_mode": {
    "name": "ipython",
    "version": 3
   },
   "file_extension": ".py",
   "mimetype": "text/x-python",
   "name": "python",
   "nbconvert_exporter": "python",
   "pygments_lexer": "ipython3",
   "version": "3.7.0"
  }
 },
 "nbformat": 4,
 "nbformat_minor": 2
}
