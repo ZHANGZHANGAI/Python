{
 "cells": [
  {
   "cell_type": "code",
   "execution_count": 3,
   "metadata": {},
   "outputs": [
    {
     "name": "stdout",
     "output_type": "stream",
     "text": [
      "3.86753119618561\n",
      "[0.0, 0.3693163660980913, 0.5975664329483111, 0.5975664329483112, 0.36931636609809143, 7.694682774887159e-17, 0.36931636609809126, 0.5975664329483111, 0.5975664329483112, 0.3693163660980915]\n"
     ]
    }
   ],
   "source": [
    "import math #导入math模块\n",
    "n = 10\n",
    "width = 2 * pi / n \n",
    "a =[]\n",
    "b =[]\n",
    "# 等分0~2π之间的区间端点值x\n",
    "for i in range(n):\n",
    "    a.append(i*width)\n",
    "for i in a:\n",
    "    b.append(abs(math.sin(i)))#abs()求绝对值\n",
    "area = sum(b)*width\n",
    "print(area)\n",
    "# 列表推导式\n",
    "s = [abs(math.sin(i*width))*width for i in range(n)]\n",
    "print(s)"
   ]
  },
  {
   "cell_type": "code",
   "execution_count": 52,
   "metadata": {},
   "outputs": [
    {
     "data": {
      "text/plain": [
       "<Figure size 640x480 with 1 Axes>"
      ]
     },
     "metadata": {},
     "output_type": "display_data"
    }
   ],
   "source": [
    "import numpy as np\n",
    "import matplotlib.pyplot as plt\n",
    "\n",
    "x=np.arange(0,2*np.pi,0.01)\n",
    "y=np.sin(x)\n",
    "\n",
    "plt.plot(x,y)\n",
    "plt.show()"
   ]
  },
  {
   "cell_type": "code",
   "execution_count": 6,
   "metadata": {},
   "outputs": [
    {
     "name": "stdout",
     "output_type": "stream",
     "text": [
      "3.86753119618561\n"
     ]
    }
   ],
   "source": [
    "from math import * #先我们需要引入python的标准库math，\n",
    "#因为后续的圆周率pi以及函数abs和sin等都需要该模块的支持。\n",
    "sum_sin = 0\n",
    "n = 10 #代码中的n表示x坐标轴被分为了多少份,\n",
    "#可以理解为计算结果的精度，当n越大时，计算结果越大。\n",
    "dn = (2 * pi) / n\n",
    "for i in range(n):\n",
    "    sum_sin += abs(sin(i * dn)) * dn\n",
    "print(sum_sin)"
   ]
  },
  {
   "cell_type": "code",
   "execution_count": null,
   "metadata": {},
   "outputs": [],
   "source": []
  }
 ],
 "metadata": {
  "kernelspec": {
   "display_name": "Python 3",
   "language": "python",
   "name": "python3"
  },
  "language_info": {
   "codemirror_mode": {
    "name": "ipython",
    "version": 3
   },
   "file_extension": ".py",
   "mimetype": "text/x-python",
   "name": "python",
   "nbconvert_exporter": "python",
   "pygments_lexer": "ipython3",
   "version": "3.7.0"
  }
 },
 "nbformat": 4,
 "nbformat_minor": 2
}
