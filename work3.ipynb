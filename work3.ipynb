{
 "cells": [
  {
   "cell_type": "code",
   "execution_count": 4,
   "metadata": {},
   "outputs": [
    {
     "name": "stdout",
     "output_type": "stream",
     "text": [
      "[('the', 6939), ('and', 4551), ('of', 3477), ('to', 3078), ('a', 2990), ('I', 2009), ('in', 1955), ('it', 1422), ('is', 1320), ('that', 1314)]\n"
     ]
    }
   ],
   "source": [
    "import re\n",
    "#1、读取txt文本文件内容\n",
    "with open('Walden.txt') as file:\n",
    "    lst=file.read()\n",
    "#print(lst)\n",
    "#2、文本预处理，去掉英文符号\n",
    "word_text=re.sub(r'[?.!,;\"\"/\\[\\]]',' ',lst) #特殊字符替换成空格\n",
    "word_texts=re.sub(r\"-\",' ',word_text) #替换单独的-，不是同一单词里的连字符\n",
    "#3、分割获得单词列表\n",
    "word_list = word_texts.split()\n",
    "#print(word_list)\n",
    "#4、获得单词频次字典\n",
    "#words.count(word_list[1])\n",
    "word_dict={}\n",
    "for word in word_list:\n",
    "    if word not in word_dict:\n",
    "        word_dict[word]=1 #key为1\n",
    "    else:\n",
    "        word_dict[word]=word_dict.get(word)+1 #key的值+1\n",
    "#5、对字典进行排序\n",
    "#Python 字典(Dictionary) items() 函数以列表返回可遍历的(键, 值) 元组数组。\n",
    "#lambda匿名函数\n",
    "dict_order=dict(sorted(word_dict.items(),key=lambda x:x[1],reverse=True)) #reverse为True则是降序 \n",
    "#6、显示字典前10项\n",
    "#items以列表形式返到字典键值对\n",
    "print(list(dict_order.items())[:10])"
   ]
  },
  {
   "cell_type": "code",
   "execution_count": 3,
   "metadata": {},
   "outputs": [
    {
     "name": "stdout",
     "output_type": "stream",
     "text": [
      "['The', 'night', 'begin', 'to', 'shine,', 'the', 'night', 'begin', 'to', 'shine']\n"
     ]
    },
    {
     "data": {
      "text/plain": [
       "1"
      ]
     },
     "execution_count": 3,
     "metadata": {},
     "output_type": "execute_result"
    }
   ],
   "source": [
    "lyric = 'The night begin to shine, the night begin to shine'\n",
    "words = lyric.split()\n",
    "print(words)\n",
    "words.count(words[0])"
   ]
  },
  {
   "cell_type": "code",
   "execution_count": null,
   "metadata": {},
   "outputs": [],
   "source": []
  }
 ],
 "metadata": {
  "kernelspec": {
   "display_name": "Python 3",
   "language": "python",
   "name": "python3"
  },
  "language_info": {
   "codemirror_mode": {
    "name": "ipython",
    "version": 3
   },
   "file_extension": ".py",
   "mimetype": "text/x-python",
   "name": "python",
   "nbconvert_exporter": "python",
   "pygments_lexer": "ipython3",
   "version": "3.7.0"
  }
 },
 "nbformat": 4,
 "nbformat_minor": 2
}
